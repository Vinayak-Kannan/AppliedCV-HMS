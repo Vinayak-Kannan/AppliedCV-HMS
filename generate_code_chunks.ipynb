{
 "cells": [
  {
   "cell_type": "code",
   "execution_count": null,
   "metadata": {},
   "outputs": [],
   "source": [
    "!pip install google-cloud-logging\n",
    "import logging\n",
    "import google.cloud.logging\n",
    "import google.cloud.logging_v2 as logging_v2\n",
    "from os import environ\n",
    "\n",
    "client = logging_v2.client.Client()\n",
    "\n",
    "# set the format for the log\n",
    "google_log_format= logging.Formatter(\n",
    "fmt='%(name)s | %(module)s | %(funcName)s | %(message)s',\n",
    "datefmt='%Y-%m-$dT%H:%M:%S')\n",
    "\n",
    "\n",
    "handler = client.get_default_handler()\n",
    "handler.setFormatter(google_log_format)\n",
    "\n",
    "cloud_logger = logging.getLogger(\"vertex-ai-notebook-logger\")\n",
    "cloud_logger.setLevel(\"CRITICAL\")\n",
    "cloud_logger.addHandler(handler)\n",
    "\n",
    "log = logging.getLogger(\"vertex-ai-notebook-logger\")\n",
    "log.critical(\"This is a log from a Vertex AI Notebook!\")\n",
    "\n",
    "import os\n",
    "os.environ['OMP_NUM_THREADS'] = \"1\"\n",
    "os.environ['MKL_NUM_THREADS'] = \"1\"\n",
    "os.environ['OPENBLAS_NUM_THREADS'] = \"1\""
   ]
  },
  {
   "cell_type": "code",
   "execution_count": null,
   "metadata": {},
   "outputs": [],
   "source": [
    "import pandas as pd\n",
    "import numpy as np\n",
    "import pywt\n",
    "from tsfresh import extract_features\n",
    "from tsfresh.utilities.distribution import MultiprocessingDistributor\n",
    "from tqdm import tqdm\n",
    "from tsfresh import extract_relevant_features\n",
    "import tsfresh\n",
    "\n",
    "path = 'gcs/hms_applied_cv/'\n",
    "offset = 1\n",
    "path_for_file = path + f'hms-harmful-brain-activity-classification/new_features{offset}.csv'"
   ]
  }
 ],
 "metadata": {
  "language_info": {
   "name": "python"
  }
 },
 "nbformat": 4,
 "nbformat_minor": 2
}
