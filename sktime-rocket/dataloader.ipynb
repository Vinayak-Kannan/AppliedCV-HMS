{
 "cells": [
  {
   "cell_type": "code",
   "execution_count": 1,
   "id": "71315289-664c-4a8a-abcc-5464c6d5130a",
   "metadata": {
    "tags": []
   },
   "outputs": [],
   "source": [
    "import pandas as pd\n",
    "import numpy as np\n",
    "from sktime.utils import mlflow_sktime\n",
    "from sktime.classification.kernel_based import RocketClassifier\n",
    "from sklearn.metrics import accuracy_score\n",
    "import pickle\n",
    "from torch.utils.data import Dataset, DataLoader, random_split\n",
    "import torch"
   ]
  },
  {
   "cell_type": "code",
   "execution_count": 2,
   "id": "45997e78-539f-47db-9768-0671bbe3cc4e",
   "metadata": {
    "tags": []
   },
   "outputs": [],
   "source": [
    "# Custom Dataset\n",
    "\n",
    "train_file = \"data/hms-harmful-brain-activity-classification/cleaned_train.csv\"\n",
    "train_dir = \"data/hms-harmful-brain-activity-classification/train_eegs\""
   ]
  },
  {
   "cell_type": "code",
   "execution_count": 10,
   "id": "efbfddb6-da1e-48db-b560-5f958421126c",
   "metadata": {
    "tags": []
   },
   "outputs": [],
   "source": [
    "class RocketDataset(Dataset):\n",
    "    def __init__(self, train_file, train_path):\n",
    "        self.df = pd.read_csv(train_file)\n",
    "        \n",
    "        self.df = self.df.loc[self.df['is_center'] == True]\n",
    "        self.df = self.df.drop_duplicates(subset='eeg_id', keep=\"first\")\n",
    "\n",
    "        self.dir = train_path\n",
    "        self.len = len(self.df)\n",
    "    def __len__(self):\n",
    "        return self.len\n",
    "    def __getitem__(self, ind):\n",
    "        eeg_id = self.df.iloc[ind]['eeg_id']\n",
    "        pq = pd.read_parquet(f\"{self.dir}/{eeg_id}.parquet\")\n",
    "        middle = (len(pq)-2_000)//2\n",
    "        pq = pq.iloc[middle:middle+2_000:2]\n",
    "        pq = pq.reset_index()\n",
    "        \n",
    "        lbl = [self.df.iloc[ind]['seizure_vote'], self.df.iloc[ind]['lpd_vote'], self.df.iloc[ind]['gpd_vote'], self.df.iloc[ind]['lrda_vote'], self.df.iloc[ind]['grda_vote'], self.df.iloc[ind]['other_vote']]\n",
    "        \n",
    "        return pq, lbl\n",
    "    \n",
    "def collate_fn(batch):\n",
    "    # convert list of eegs to multi-index df\n",
    "    # one-hot encode labels\n",
    "   \n",
    "    \n",
    "    x_batch = [item[0] for item in batch]\n",
    "    y_batch = [item[1] for item in batch]\n",
    "    batch_size = len(x_batch)\n",
    "    \n",
    "    x_batch = pd.concat(x_batch,keys=list(range(batch_size)),axis=0).reset_index(level=1)\n",
    "    x_batch['instances'] = x_batch.index\n",
    "    x_batch = x_batch.rename(columns={\"level_1\": \"timepoints\"})\n",
    "    x_batch = x_batch.set_index(['instances', 'timepoints'])\n",
    "    x_batch = x_batch.fillna(0)\n",
    "    \n",
    "    y_batch = pd.DataFrame(y_batch, columns = ['Seizure', 'LPD', 'GPD', 'LRDA', 'GRDA', 'Other']) \n",
    "    \n",
    "    # y_batch = pd.get_dummies(y_batch, columns = ['GPD','GRDA','LPD','LRDA','Other','Seizure']).astype(\"int32\")\n",
    "    y_batch = y_batch.reset_index(drop=True)\n",
    "    \n",
    "    return x_batch, y_batch"
   ]
  },
  {
   "cell_type": "code",
   "execution_count": 11,
   "id": "4270a55a-db72-4aac-a6d0-2aaf1fdc3fa7",
   "metadata": {
    "tags": []
   },
   "outputs": [],
   "source": [
    "rd = RocketDataset(train_file, train_dir)"
   ]
  },
  {
   "cell_type": "code",
   "execution_count": 12,
   "id": "facb8c68-bd66-431e-b9d0-89c21f1fc892",
   "metadata": {
    "tags": []
   },
   "outputs": [],
   "source": [
    "BATCH_SIZE = 16\n",
    "train_set, val_set = random_split(rd, [.7, .3], generator=torch.Generator().manual_seed(42))\n",
    "\n",
    "train_loader = DataLoader(train_set, batch_size=BATCH_SIZE, shuffle=False, collate_fn=collate_fn)\n",
    "val_loader = DataLoader(val_set, batch_size=BATCH_SIZE, shuffle=False, collate_fn=collate_fn)"
   ]
  },
  {
   "cell_type": "code",
   "execution_count": 13,
   "id": "940de601-82bb-4cee-a567-872a979a3c7d",
   "metadata": {
    "tags": []
   },
   "outputs": [],
   "source": [
    "# load model\n",
    "model_dir = \"rocket-mini/\"\n",
    "\n",
    "rocket_model = mlflow_sktime.load_model(model_uri=model_dir)"
   ]
  },
  {
   "cell_type": "code",
   "execution_count": 14,
   "id": "eed84bb6-a766-492e-9a91-559345405c07",
   "metadata": {
    "tags": []
   },
   "outputs": [],
   "source": [
    "# run prediction on batch (for testing)\n",
    "pred = []\n",
    "y_val = []\n",
    "for x, y in val_loader: \n",
    "    predictions = rocket_model.predict(x)\n",
    "    # calc accuracy\n",
    "    # acc = accuracy_score(y.idxmax(axis=1),predictions.idxmax(axis=1) )\n",
    "    pred.extend(predictions.idxmax(axis=1))\n",
    "    y_val.extend(y.idxmax(axis=1))\n",
    "    break"
   ]
  },
  {
   "cell_type": "code",
   "execution_count": null,
   "id": "b9cb6d69-d8da-4990-b8c1-146b358c616b",
   "metadata": {},
   "outputs": [],
   "source": []
  }
 ],
 "metadata": {
  "environment": {
   "kernel": "conda-root-py",
   "name": "workbench-notebooks.m119",
   "type": "gcloud",
   "uri": "us-docker.pkg.dev/deeplearning-platform-release/gcr.io/workbench-notebooks:m119"
  },
  "kernelspec": {
   "display_name": "Python 3 (ipykernel) (Local)",
   "language": "python",
   "name": "conda-root-py"
  },
  "language_info": {
   "codemirror_mode": {
    "name": "ipython",
    "version": 3
   },
   "file_extension": ".py",
   "mimetype": "text/x-python",
   "name": "python",
   "nbconvert_exporter": "python",
   "pygments_lexer": "ipython3",
   "version": "3.10.14"
  }
 },
 "nbformat": 4,
 "nbformat_minor": 5
}
