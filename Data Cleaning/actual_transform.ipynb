{
 "cells": [
  {
   "cell_type": "markdown",
   "id": "203c03c2",
   "metadata": {},
   "source": [
    "This Python script is used to process a DataFrame from a CSV file named 'train.csv'. It does the following functionality:\n",
    "1. Creates a new column is_center, which is used to identify the correct offset for each EEG\n",
    "\n",
    "The end result is a DataFrame where each sequence of rows with the same 'concatenated_scores' and 'eeg_id' has one row (the middle one, if the sequence length is odd, or the first one of the middle two, if the sequence length is even) marked as 'is_center'."
   ]
  },
  {
   "cell_type": "code",
   "execution_count": 48,
   "id": "initial_id",
   "metadata": {
    "ExecuteTime": {
     "end_time": "2024-02-15T14:21:02.007110Z",
     "start_time": "2024-02-15T14:20:59.213673Z"
    },
    "collapsed": true
   },
   "outputs": [],
   "source": [
    "import pandas as pd\n",
    "\n",
    "df = pd.read_csv('train.csv')\n",
    "# Concat the last 6 columns into one\n",
    "df['concatenated_scores'] = df.iloc[:, -6:].apply(lambda x: ''.join(x.astype(str)), axis=1)\n",
    "# Create column of False\n",
    "df['is_center'] = False\n",
    "\n",
    "# Sort by eeg_id and then eeg_sub_id\n",
    "df = df.sort_values(['eeg_id', 'eeg_sub_id'])\n",
    "\n",
    "# Iterate over the rows\n",
    "counter = 0\n",
    "start_row_index = 0\n",
    "for i in range(len(df)):\n",
    "    if i == 0:\n",
    "        counter += 1\n",
    "        continue\n",
    "    \n",
    "    # Check if the concatenated_scores is the same as the previous row\n",
    "    if df.at[i, 'concatenated_scores'] == df.at[i-1, 'concatenated_scores'] and df.at[i, 'eeg_id'] == df.at[i-1, 'eeg_id']:\n",
    "        counter += 1\n",
    "    else:\n",
    "        row_to_edit = 0\n",
    "        if counter == 1:\n",
    "            row_to_edit = start_row_index\n",
    "        else:\n",
    "            row_to_edit = int((counter - 1) / 2) + start_row_index\n",
    "        df.at[row_to_edit, 'is_center'] = True\n",
    "        start_row_index = i\n",
    "        counter = 1\n",
    "\n",
    "\n",
    "row_to_edit = int((counter - 1) / 2) + start_row_index\n",
    "df.at[row_to_edit, 'is_center'] = True"
   ]
  },
  {
   "cell_type": "code",
   "execution_count": 49,
   "id": "4ffb0143eb79e79b",
   "metadata": {
    "ExecuteTime": {
     "end_time": "2024-02-15T14:21:02.065675Z",
     "start_time": "2024-02-15T14:21:02.015671Z"
    },
    "collapsed": false
   },
   "outputs": [],
   "source": [
    "# Create a column that is the count of the number of True's that appear in is_center for each combination of eeg_id and concatenated_scores\n",
    "df['center_count'] = df.groupby(['eeg_id', 'concatenated_scores'])['is_center'].transform('sum')"
   ]
  },
  {
   "cell_type": "code",
   "execution_count": 50,
   "id": "61dc1e0acb2f1d0",
   "metadata": {
    "ExecuteTime": {
     "end_time": "2024-02-15T14:21:02.068389Z",
     "start_time": "2024-02-15T14:21:02.049700Z"
    },
    "collapsed": false
   },
   "outputs": [
    {
     "name": "stdout",
     "output_type": "stream",
     "text": [
      "center_count\n",
      "1     98365\n",
      "2      6453\n",
      "3       693\n",
      "4       269\n",
      "5       249\n",
      "6       130\n",
      "13      110\n",
      "18       85\n",
      "7        78\n",
      "11       66\n",
      "30       66\n",
      "29       54\n",
      "24       52\n",
      "27       34\n",
      "16       32\n",
      "21       30\n",
      "15       17\n",
      "8        17\n",
      "Name: count, dtype: int64\n"
     ]
    }
   ],
   "source": [
    "# Print value counts for center_count\n",
    "print(df['center_count'].value_counts())"
   ]
  },
  {
   "cell_type": "code",
   "execution_count": 51,
   "id": "8996e515cd5fba6c",
   "metadata": {
    "ExecuteTime": {
     "end_time": "2024-02-15T14:21:07.227758Z",
     "start_time": "2024-02-15T14:21:06.868831Z"
    },
    "collapsed": false
   },
   "outputs": [
    {
     "data": {
      "text/html": [
       "<div>\n",
       "<style scoped>\n",
       "    .dataframe tbody tr th:only-of-type {\n",
       "        vertical-align: middle;\n",
       "    }\n",
       "\n",
       "    .dataframe tbody tr th {\n",
       "        vertical-align: top;\n",
       "    }\n",
       "\n",
       "    .dataframe thead th {\n",
       "        text-align: right;\n",
       "    }\n",
       "</style>\n",
       "<table border=\"1\" class=\"dataframe\">\n",
       "  <thead>\n",
       "    <tr style=\"text-align: right;\">\n",
       "      <th></th>\n",
       "      <th>eeg_id</th>\n",
       "      <th>eeg_sub_id</th>\n",
       "      <th>eeg_label_offset_seconds</th>\n",
       "      <th>spectrogram_id</th>\n",
       "      <th>spectrogram_sub_id</th>\n",
       "      <th>spectrogram_label_offset_seconds</th>\n",
       "      <th>label_id</th>\n",
       "      <th>patient_id</th>\n",
       "      <th>expert_consensus</th>\n",
       "      <th>seizure_vote</th>\n",
       "      <th>lpd_vote</th>\n",
       "      <th>gpd_vote</th>\n",
       "      <th>lrda_vote</th>\n",
       "      <th>grda_vote</th>\n",
       "      <th>other_vote</th>\n",
       "      <th>concatenated_scores</th>\n",
       "      <th>is_center</th>\n",
       "      <th>center_count</th>\n",
       "    </tr>\n",
       "  </thead>\n",
       "  <tbody>\n",
       "  </tbody>\n",
       "</table>\n",
       "</div>"
      ],
      "text/plain": [
       "Empty DataFrame\n",
       "Columns: [eeg_id, eeg_sub_id, eeg_label_offset_seconds, spectrogram_id, spectrogram_sub_id, spectrogram_label_offset_seconds, label_id, patient_id, expert_consensus, seizure_vote, lpd_vote, gpd_vote, lrda_vote, grda_vote, other_vote, concatenated_scores, is_center, center_count]\n",
       "Index: []"
      ]
     },
     "execution_count": 51,
     "metadata": {},
     "output_type": "execute_result"
    }
   ],
   "source": [
    "# Filter where center_count is 11\n",
    "df[df['center_count'] == 0]"
   ]
  },
  {
   "cell_type": "code",
   "execution_count": 47,
   "id": "804632edde5ca0a6",
   "metadata": {
    "ExecuteTime": {
     "end_time": "2024-02-15T14:19:19.064453Z",
     "start_time": "2024-02-15T14:19:19.063279Z"
    },
    "collapsed": false
   },
   "outputs": [
    {
     "name": "stdout",
     "output_type": "stream",
     "text": [
      "106800\n"
     ]
    }
   ],
   "source": [
    "print(len(df))"
   ]
  },
  {
   "cell_type": "code",
   "execution_count": null,
   "id": "8a52d76317dd073b",
   "metadata": {
    "collapsed": false
   },
   "outputs": [],
   "source": []
  }
 ],
 "metadata": {
  "kernelspec": {
   "display_name": "Python 3",
   "language": "python",
   "name": "python3"
  },
  "language_info": {
   "codemirror_mode": {
    "name": "ipython",
    "version": 2
   },
   "file_extension": ".py",
   "mimetype": "text/x-python",
   "name": "python",
   "nbconvert_exporter": "python",
   "pygments_lexer": "ipython2",
   "version": "2.7.6"
  }
 },
 "nbformat": 4,
 "nbformat_minor": 5
}
